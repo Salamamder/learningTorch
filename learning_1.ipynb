{
 "cells": [
  {
   "cell_type": "code",
   "execution_count": 5,
   "id": "c3e7e95d-fe80-4880-8750-ed27fa5ee1bb",
   "metadata": {},
   "outputs": [],
   "source": [
    "# 임포트\n",
    "import numpy as np"
   ]
  },
  {
   "cell_type": "code",
   "execution_count": 3,
   "id": "21baaf54-01a7-43dd-9295-8fe8fccdd62a",
   "metadata": {},
   "outputs": [],
   "source": [
    "class Perceptron:\n",
    "    def __init__(self, eta = 0.01, n_iter = 5, random_state = 1):\n",
    "        self.eta = eta\n",
    "        self.n_iter = n_iter\n",
    "        self.random_state = random_state\n",
    "\n",
    "    def fit(self, x, y):\n",
    "        rgen = np.random.RandomState(self.random_state)\n",
    "        self.w_ = rgen.normal(loc= 0.0,\n",
    "                             scale = 0.01,\n",
    "                             size = x.shape[1])\n",
    "        self.errors_ = []\n",
    "\n",
    "        for _ in range(self.n_iter):\n",
    "            errors = 0\n",
    "            for xi, target in zip(x, y):\n",
    "                update = self.eta * (target - self.predict(xi))\n",
    "                self.w += update * xi\n",
    "                self.b += update\n",
    "                errors += int(update != 0.0)\n",
    "            self.errors_.append(errors)\n",
    "        return self\n",
    "\n",
    "    def net_input(self, x):\n",
    "        \"\"\" 입력 계산 \"\"\"\n",
    "        return np.dot(x, self.w_) + self.b_\n",
    "\n",
    "    def predict(self, x):\n",
    "        \"\"\" 단위 계단 함수를 사용하여 클래스 레이블을 반환합니다. \"\"\"\n",
    "        return np.where(self.net_input(x) >= 0.0, 1, 0) # 활성화 같은데\n",
    "    \n",
    "        "
   ]
  },
  {
   "cell_type": "code",
   "execution_count": 8,
   "id": "9f6c965c-c2bf-444c-90a9-69279f59ebc0",
   "metadata": {},
   "outputs": [
    {
     "data": {
      "text/plain": [
       "np.float64(0.0)"
      ]
     },
     "execution_count": 8,
     "metadata": {},
     "output_type": "execute_result"
    }
   ],
   "source": [
    "# 확인\n",
    "v1 = np.array([1, 2, 3])\n",
    "v2 = 0.5 * v1\n",
    "np.arccos(v1.dot(v2) / (np.linalg.norm(v1) * np.linalg.norm(v2)))"
   ]
  },
  {
   "cell_type": "code",
   "execution_count": null,
   "id": "e28519f1-8cc1-4a2d-87cd-ab642aabf3b6",
   "metadata": {},
   "outputs": [],
   "source": []
  },
  {
   "cell_type": "code",
   "execution_count": null,
   "id": "1688ac04-d088-42a9-a23c-b92884a9cf70",
   "metadata": {},
   "outputs": [],
   "source": []
  },
  {
   "cell_type": "code",
   "execution_count": null,
   "id": "4bd0a5a9-2c64-4e06-94de-748be4bfdf3c",
   "metadata": {},
   "outputs": [],
   "source": []
  }
 ],
 "metadata": {
  "kernelspec": {
   "display_name": "Python 3 (ipykernel)",
   "language": "python",
   "name": "python3"
  },
  "language_info": {
   "codemirror_mode": {
    "name": "ipython",
    "version": 3
   },
   "file_extension": ".py",
   "mimetype": "text/x-python",
   "name": "python",
   "nbconvert_exporter": "python",
   "pygments_lexer": "ipython3",
   "version": "3.11.11"
  }
 },
 "nbformat": 4,
 "nbformat_minor": 5
}
