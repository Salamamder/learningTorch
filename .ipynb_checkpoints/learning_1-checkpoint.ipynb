{
 "cells": [
  {
   "cell_type": "markdown",
   "id": "45b821f7-b61d-4c6b-8de8-7926b5ac3d90",
   "metadata": {},
   "source": [
    "## 퍼셉트론 직접 만들기"
   ]
  },
  {
   "cell_type": "code",
   "execution_count": 5,
   "id": "c3e7e95d-fe80-4880-8750-ed27fa5ee1bb",
   "metadata": {},
   "outputs": [],
   "source": [
    "# 임포트\n",
    "import numpy as np"
   ]
  },
  {
   "cell_type": "code",
   "execution_count": 27,
   "id": "21baaf54-01a7-43dd-9295-8fe8fccdd62a",
   "metadata": {},
   "outputs": [],
   "source": [
    "class Perceptron:\n",
    "    def __init__(self, eta = 0.01, n_iter = 5, random_state = 1):\n",
    "        self.eta = eta\n",
    "        self.n_iter = n_iter\n",
    "        self.random_state = random_state\n",
    "\n",
    "    # fit은 모든 가중치를 초기화 하고 학습을 진행함\n",
    "    def fit(self, x, y):\n",
    "        rgen = np.random.RandomState(self.random_state)\n",
    "        # normal에서  loc = 정규분포의 평균, scale = 표준편차, size = 생성할 난수의 개수 또는 배열 형\n",
    "        self.w_ = rgen.normal(loc= 0.0,\n",
    "                             scale = 0.01,\n",
    "                             size = x.shape[1])\n",
    "        self.b_ = np.float64(0.) # np.float_ 은 np.float64로 변경됨\n",
    "        self.errors_ = []\n",
    "\n",
    "        for _ in range(self.n_iter):\n",
    "            errors = 0\n",
    "            for xi, target in zip(x, y):\n",
    "                update = self.eta * (target - self.predict(xi))\n",
    "                self.w_ += update * xi\n",
    "                self.b_ += update\n",
    "                errors += int(update != 0.0)\n",
    "            self.errors_.append(errors)\n",
    "        return self\n",
    "\n",
    "    def net_input(self, x):\n",
    "        \"\"\" 입력 계산 \"\"\"\n",
    "        return np.dot(x, self.w_) + self.b_\n",
    "\n",
    "    def predict(self, x):\n",
    "        \"\"\" 단위 계단 함수를 사용하여 클래스 레이블을 반환합니다. \"\"\"\n",
    "        return np.where(self.net_input(x) >= 0.0, 1, 0) # 활성화 같은데\n",
    "    \n",
    "   "
   ]
  },
  {
   "cell_type": "code",
   "execution_count": 8,
   "id": "9f6c965c-c2bf-444c-90a9-69279f59ebc0",
   "metadata": {},
   "outputs": [
    {
     "data": {
      "text/plain": [
       "np.float64(0.0)"
      ]
     },
     "execution_count": 8,
     "metadata": {},
     "output_type": "execute_result"
    }
   ],
   "source": [
    "# 확인\n",
    "v1 = np.array([1, 2, 3])\n",
    "v2 = 0.5 * v1\n",
    "np.arccos(v1.dot(v2) / (np.linalg.norm(v1) * np.linalg.norm(v2))) # 코사인 유사도를 통해 얼마나 비슷한가를 알아냄\n",
    "# np.arccos(): 역코사인 삼각 함수\n",
    "# np.linalg.norm(): 벡터 길이를 계산하는 함수"
   ]
  },
  {
   "cell_type": "markdown",
   "id": "51e17ee0-3f3f-4f68-93b7-514276f90caa",
   "metadata": {},
   "source": [
    "## 붓꽃데이터셋 이진분류 하기"
   ]
  },
  {
   "cell_type": "code",
   "execution_count": 11,
   "id": "1688ac04-d088-42a9-a23c-b92884a9cf70",
   "metadata": {},
   "outputs": [],
   "source": [
    "import os\n",
    "import pandas as pd\n",
    "import matplotlib.pyplot as plt\n",
    "import numpy as np"
   ]
  },
  {
   "cell_type": "code",
   "execution_count": 7,
   "id": "4bd0a5a9-2c64-4e06-94de-748be4bfdf3c",
   "metadata": {},
   "outputs": [
    {
     "name": "stdout",
     "output_type": "stream",
     "text": [
      "URL:  https://archive.ics.uci.edu/ml/machine-learning-databases/iris/iris.data\n"
     ]
    }
   ],
   "source": [
    "# 데이터셋 주소\n",
    "s = 'https://archive.ics.uci.edu/ml/machine-learning-databases/iris/iris.data'\n",
    "print(\"URL: \", s)"
   ]
  },
  {
   "cell_type": "code",
   "execution_count": 10,
   "id": "27d28cf3-bde2-4da3-814a-875971caddeb",
   "metadata": {},
   "outputs": [
    {
     "data": {
      "text/html": [
       "<div>\n",
       "<style scoped>\n",
       "    .dataframe tbody tr th:only-of-type {\n",
       "        vertical-align: middle;\n",
       "    }\n",
       "\n",
       "    .dataframe tbody tr th {\n",
       "        vertical-align: top;\n",
       "    }\n",
       "\n",
       "    .dataframe thead th {\n",
       "        text-align: right;\n",
       "    }\n",
       "</style>\n",
       "<table border=\"1\" class=\"dataframe\">\n",
       "  <thead>\n",
       "    <tr style=\"text-align: right;\">\n",
       "      <th></th>\n",
       "      <th>0</th>\n",
       "      <th>1</th>\n",
       "      <th>2</th>\n",
       "      <th>3</th>\n",
       "      <th>4</th>\n",
       "    </tr>\n",
       "  </thead>\n",
       "  <tbody>\n",
       "    <tr>\n",
       "      <th>145</th>\n",
       "      <td>6.7</td>\n",
       "      <td>3.0</td>\n",
       "      <td>5.2</td>\n",
       "      <td>2.3</td>\n",
       "      <td>Iris-virginica</td>\n",
       "    </tr>\n",
       "    <tr>\n",
       "      <th>146</th>\n",
       "      <td>6.3</td>\n",
       "      <td>2.5</td>\n",
       "      <td>5.0</td>\n",
       "      <td>1.9</td>\n",
       "      <td>Iris-virginica</td>\n",
       "    </tr>\n",
       "    <tr>\n",
       "      <th>147</th>\n",
       "      <td>6.5</td>\n",
       "      <td>3.0</td>\n",
       "      <td>5.2</td>\n",
       "      <td>2.0</td>\n",
       "      <td>Iris-virginica</td>\n",
       "    </tr>\n",
       "    <tr>\n",
       "      <th>148</th>\n",
       "      <td>6.2</td>\n",
       "      <td>3.4</td>\n",
       "      <td>5.4</td>\n",
       "      <td>2.3</td>\n",
       "      <td>Iris-virginica</td>\n",
       "    </tr>\n",
       "    <tr>\n",
       "      <th>149</th>\n",
       "      <td>5.9</td>\n",
       "      <td>3.0</td>\n",
       "      <td>5.1</td>\n",
       "      <td>1.8</td>\n",
       "      <td>Iris-virginica</td>\n",
       "    </tr>\n",
       "  </tbody>\n",
       "</table>\n",
       "</div>"
      ],
      "text/plain": [
       "       0    1    2    3               4\n",
       "145  6.7  3.0  5.2  2.3  Iris-virginica\n",
       "146  6.3  2.5  5.0  1.9  Iris-virginica\n",
       "147  6.5  3.0  5.2  2.0  Iris-virginica\n",
       "148  6.2  3.4  5.4  2.3  Iris-virginica\n",
       "149  5.9  3.0  5.1  1.8  Iris-virginica"
      ]
     },
     "execution_count": 10,
     "metadata": {},
     "output_type": "execute_result"
    }
   ],
   "source": [
    "# 데이터셋 pandas로 불러오기 및 데이터 확인(tail_5)\n",
    "df = pd.read_csv(s, header = None, encoding = 'utf-8')\n",
    "df.tail()"
   ]
  },
  {
   "cell_type": "code",
   "execution_count": 29,
   "id": "1edd086d-cb89-42e0-9844-0b9a23a94a7c",
   "metadata": {},
   "outputs": [
    {
     "data": {
      "image/png": "[encoded data removed]",
      "text/plain": [
       "<Figure size 640x480 with 1 Axes>"
      ]
     },
     "metadata": {},
     "output_type": "display_data"
    }
   ],
   "source": [
    "# 2진 분류를 위해 setosa, versicolor를 선택\n",
    "y = df.iloc[0:100, 4].values\n",
    "y = np.where(y == 'Iris-setosa', 0, 1)\n",
    "# 꽃받침 길이와 꽃잎 길이를 추출\n",
    "x = df.iloc[0:100, [0, 2]].values\n",
    "# 산점도 그리기\n",
    "# 0~49 Setosa\n",
    "# 50~99 vers\n",
    "plt.scatter(x[:50, 0], x[:50, 1], color = 'red', marker='o', label = 'Setosa')\n",
    "plt.scatter(x[50:100, 0], x[50:100, 1], color = 'blue', marker='s', label = 'Versicolor')\n",
    "plt.xlabel('Sepal length [cm]')\n",
    "plt.ylabel('Pepal length [cm]')\n",
    "plt.legend(loc = 'upper left')\n",
    "plt.show()"
   ]
  },
  {
   "cell_type": "code",
   "execution_count": 30,
   "id": "8168982f-6266-44ee-a238-de42250acbc7",
   "metadata": {},
   "outputs": [
    {
     "data": {
      "text/plain": [
       "<function matplotlib.pyplot.show(close=None, block=None)>"
      ]
     },
     "execution_count": 30,
     "metadata": {},
     "output_type": "execute_result"
    },
    {
     "data": {
      "image/png": "[encoded data removed]",
      "text/plain": [
       "<Figure size 640x480 with 1 Axes>"
      ]
     },
     "metadata": {},
     "output_type": "display_data"
    }
   ],
   "source": [
    "# 해당 붓꽃 데이터셋을 퍼셉트론으로 훈련\n",
    "ppn = Perceptron(eta = 0.1, n_iter=10)\n",
    "ppn.fit(x, y)\n",
    "plt.plot(range(1, len(ppn.errors_) + 1), \n",
    "        ppn.errors_, marker='o')\n",
    "plt.xlabel('Epochs')\n",
    "plt.ylabel('Number of updates')\n",
    "plt.show"
   ]
  },
  {
   "cell_type": "code",
   "execution_count": null,
   "id": "85932be9-a8f8-4745-ba0c-967c55b41de8",
   "metadata": {},
   "outputs": [],
   "source": []
  }
 ],
 "metadata": {
  "kernelspec": {
   "display_name": "Python 3 (ipykernel)",
   "language": "python",
   "name": "python3"
  },
  "language_info": {
   "codemirror_mode": {
    "name": "ipython",
    "version": 3
   },
   "file_extension": ".py",
   "mimetype": "text/x-python",
   "name": "python",
   "nbconvert_exporter": "python",
   "pygments_lexer": "ipython3",
   "version": "3.11.11"
  }
 },
 "nbformat": 4,
 "nbformat_minor": 5
}
